{
 "cells": [
  {
   "cell_type": "code",
   "execution_count": 1,
   "id": "9c532cfc",
   "metadata": {},
   "outputs": [],
   "source": [
    "import pandas as pd\n",
    "import numpy as np\n",
    "import matplotlib.pyplot as plt\n",
    "import seaborn as sns\n",
    "from sklearn.preprocessing import LabelEncoder\n",
    "%matplotlib inline"
   ]
  },
  {
   "cell_type": "code",
   "execution_count": 2,
   "id": "3e72ce58",
   "metadata": {},
   "outputs": [],
   "source": [
    "df1 = pd.read_csv(\"secondary_data.csv\", sep = ';')"
   ]
  },
  {
   "cell_type": "code",
   "execution_count": 3,
   "id": "793ff432",
   "metadata": {},
   "outputs": [
    {
     "data": {
      "text/html": [
       "<div>\n",
       "<style scoped>\n",
       "    .dataframe tbody tr th:only-of-type {\n",
       "        vertical-align: middle;\n",
       "    }\n",
       "\n",
       "    .dataframe tbody tr th {\n",
       "        vertical-align: top;\n",
       "    }\n",
       "\n",
       "    .dataframe thead th {\n",
       "        text-align: right;\n",
       "    }\n",
       "</style>\n",
       "<table border=\"1\" class=\"dataframe\">\n",
       "  <thead>\n",
       "    <tr style=\"text-align: right;\">\n",
       "      <th></th>\n",
       "      <th>class</th>\n",
       "      <th>cap-diameter</th>\n",
       "      <th>cap-shape</th>\n",
       "      <th>cap-surface</th>\n",
       "      <th>cap-color</th>\n",
       "      <th>does-bruise-or-bleed</th>\n",
       "      <th>gill-attachment</th>\n",
       "      <th>gill-spacing</th>\n",
       "      <th>gill-color</th>\n",
       "      <th>stem-height</th>\n",
       "      <th>...</th>\n",
       "      <th>stem-root</th>\n",
       "      <th>stem-surface</th>\n",
       "      <th>stem-color</th>\n",
       "      <th>veil-type</th>\n",
       "      <th>veil-color</th>\n",
       "      <th>has-ring</th>\n",
       "      <th>ring-type</th>\n",
       "      <th>spore-print-color</th>\n",
       "      <th>habitat</th>\n",
       "      <th>season</th>\n",
       "    </tr>\n",
       "  </thead>\n",
       "  <tbody>\n",
       "    <tr>\n",
       "      <th>0</th>\n",
       "      <td>p</td>\n",
       "      <td>15.26</td>\n",
       "      <td>x</td>\n",
       "      <td>g</td>\n",
       "      <td>o</td>\n",
       "      <td>f</td>\n",
       "      <td>e</td>\n",
       "      <td>NaN</td>\n",
       "      <td>w</td>\n",
       "      <td>16.95</td>\n",
       "      <td>...</td>\n",
       "      <td>s</td>\n",
       "      <td>y</td>\n",
       "      <td>w</td>\n",
       "      <td>u</td>\n",
       "      <td>w</td>\n",
       "      <td>t</td>\n",
       "      <td>g</td>\n",
       "      <td>NaN</td>\n",
       "      <td>d</td>\n",
       "      <td>w</td>\n",
       "    </tr>\n",
       "    <tr>\n",
       "      <th>1</th>\n",
       "      <td>p</td>\n",
       "      <td>16.60</td>\n",
       "      <td>x</td>\n",
       "      <td>g</td>\n",
       "      <td>o</td>\n",
       "      <td>f</td>\n",
       "      <td>e</td>\n",
       "      <td>NaN</td>\n",
       "      <td>w</td>\n",
       "      <td>17.99</td>\n",
       "      <td>...</td>\n",
       "      <td>s</td>\n",
       "      <td>y</td>\n",
       "      <td>w</td>\n",
       "      <td>u</td>\n",
       "      <td>w</td>\n",
       "      <td>t</td>\n",
       "      <td>g</td>\n",
       "      <td>NaN</td>\n",
       "      <td>d</td>\n",
       "      <td>u</td>\n",
       "    </tr>\n",
       "    <tr>\n",
       "      <th>2</th>\n",
       "      <td>p</td>\n",
       "      <td>14.07</td>\n",
       "      <td>x</td>\n",
       "      <td>g</td>\n",
       "      <td>o</td>\n",
       "      <td>f</td>\n",
       "      <td>e</td>\n",
       "      <td>NaN</td>\n",
       "      <td>w</td>\n",
       "      <td>17.80</td>\n",
       "      <td>...</td>\n",
       "      <td>s</td>\n",
       "      <td>y</td>\n",
       "      <td>w</td>\n",
       "      <td>u</td>\n",
       "      <td>w</td>\n",
       "      <td>t</td>\n",
       "      <td>g</td>\n",
       "      <td>NaN</td>\n",
       "      <td>d</td>\n",
       "      <td>w</td>\n",
       "    </tr>\n",
       "    <tr>\n",
       "      <th>3</th>\n",
       "      <td>p</td>\n",
       "      <td>14.17</td>\n",
       "      <td>f</td>\n",
       "      <td>h</td>\n",
       "      <td>e</td>\n",
       "      <td>f</td>\n",
       "      <td>e</td>\n",
       "      <td>NaN</td>\n",
       "      <td>w</td>\n",
       "      <td>15.77</td>\n",
       "      <td>...</td>\n",
       "      <td>s</td>\n",
       "      <td>y</td>\n",
       "      <td>w</td>\n",
       "      <td>u</td>\n",
       "      <td>w</td>\n",
       "      <td>t</td>\n",
       "      <td>p</td>\n",
       "      <td>NaN</td>\n",
       "      <td>d</td>\n",
       "      <td>w</td>\n",
       "    </tr>\n",
       "    <tr>\n",
       "      <th>4</th>\n",
       "      <td>p</td>\n",
       "      <td>14.64</td>\n",
       "      <td>x</td>\n",
       "      <td>h</td>\n",
       "      <td>o</td>\n",
       "      <td>f</td>\n",
       "      <td>e</td>\n",
       "      <td>NaN</td>\n",
       "      <td>w</td>\n",
       "      <td>16.53</td>\n",
       "      <td>...</td>\n",
       "      <td>s</td>\n",
       "      <td>y</td>\n",
       "      <td>w</td>\n",
       "      <td>u</td>\n",
       "      <td>w</td>\n",
       "      <td>t</td>\n",
       "      <td>p</td>\n",
       "      <td>NaN</td>\n",
       "      <td>d</td>\n",
       "      <td>w</td>\n",
       "    </tr>\n",
       "  </tbody>\n",
       "</table>\n",
       "<p>5 rows × 21 columns</p>\n",
       "</div>"
      ],
      "text/plain": [
       "  class  cap-diameter cap-shape cap-surface cap-color does-bruise-or-bleed  \\\n",
       "0     p         15.26         x           g         o                    f   \n",
       "1     p         16.60         x           g         o                    f   \n",
       "2     p         14.07         x           g         o                    f   \n",
       "3     p         14.17         f           h         e                    f   \n",
       "4     p         14.64         x           h         o                    f   \n",
       "\n",
       "  gill-attachment gill-spacing gill-color  stem-height  ...  stem-root  \\\n",
       "0               e          NaN          w        16.95  ...          s   \n",
       "1               e          NaN          w        17.99  ...          s   \n",
       "2               e          NaN          w        17.80  ...          s   \n",
       "3               e          NaN          w        15.77  ...          s   \n",
       "4               e          NaN          w        16.53  ...          s   \n",
       "\n",
       "  stem-surface stem-color veil-type veil-color has-ring ring-type  \\\n",
       "0            y          w         u          w        t         g   \n",
       "1            y          w         u          w        t         g   \n",
       "2            y          w         u          w        t         g   \n",
       "3            y          w         u          w        t         p   \n",
       "4            y          w         u          w        t         p   \n",
       "\n",
       "  spore-print-color habitat season  \n",
       "0               NaN       d      w  \n",
       "1               NaN       d      u  \n",
       "2               NaN       d      w  \n",
       "3               NaN       d      w  \n",
       "4               NaN       d      w  \n",
       "\n",
       "[5 rows x 21 columns]"
      ]
     },
     "execution_count": 3,
     "metadata": {},
     "output_type": "execute_result"
    }
   ],
   "source": [
    "df1.head()"
   ]
  },
  {
   "cell_type": "code",
   "execution_count": 4,
   "id": "0dc2c6ab",
   "metadata": {},
   "outputs": [
    {
     "data": {
      "text/plain": [
       "(61069, 21)"
      ]
     },
     "execution_count": 4,
     "metadata": {},
     "output_type": "execute_result"
    }
   ],
   "source": [
    "df1.shape"
   ]
  },
  {
   "cell_type": "code",
   "execution_count": 5,
   "id": "f4d09784",
   "metadata": {},
   "outputs": [],
   "source": [
    "#df1.isnull().sum()"
   ]
  },
  {
   "cell_type": "code",
   "execution_count": 6,
   "id": "ee7d47fe",
   "metadata": {},
   "outputs": [],
   "source": [
    "#df1.describe()"
   ]
  },
  {
   "cell_type": "markdown",
   "id": "637132fd",
   "metadata": {},
   "source": [
    "# EDA"
   ]
  },
  {
   "cell_type": "code",
   "execution_count": 7,
   "id": "955e3ab8",
   "metadata": {},
   "outputs": [],
   "source": [
    "# Removing columns with missing values \n",
    "\n",
    "df1.drop(columns=['veil-type', 'stem-root', 'veil-color',\n",
    "                 'spore-print-color'], inplace=True)"
   ]
  },
  {
   "cell_type": "code",
   "execution_count": 8,
   "id": "7a9776d7",
   "metadata": {},
   "outputs": [
    {
     "data": {
      "text/plain": [
       "(61069, 17)"
      ]
     },
     "execution_count": 8,
     "metadata": {},
     "output_type": "execute_result"
    }
   ],
   "source": [
    "df1.shape"
   ]
  },
  {
   "cell_type": "code",
   "execution_count": 21,
   "id": "b243eec2",
   "metadata": {},
   "outputs": [
    {
     "data": {
      "text/plain": [
       "<AxesSubplot:>"
      ]
     },
     "execution_count": 21,
     "metadata": {},
     "output_type": "execute_result"
    },
    {
     "data": {
      "image/png": "[encoded data removed]",
      "text/plain": [
       "<Figure size 432x288 with 2 Axes>"
      ]
     },
     "metadata": {
      "needs_background": "light"
     },
     "output_type": "display_data"
    }
   ],
   "source": [
    "# calculate the correlation matrix\n",
    "corr = df1.corr()\n",
    "\n",
    "# plot the heatmap\n",
    "sns.heatmap(corr, xticklabels=corr.columns, yticklabels=corr.columns)"
   ]
  },
  {
   "cell_type": "code",
   "execution_count": 9,
   "id": "1d170883",
   "metadata": {},
   "outputs": [
    {
     "name": "stdout",
     "output_type": "stream",
     "text": [
      "class ['p' 'e']\n",
      "cap-diameter [15.26 16.6  14.07 ... 22.85 21.8  20.42]\n",
      "cap-shape ['x' 'f' 'p' 'b' 'c' 's' 'o']\n",
      "cap-surface ['g' 'h' nan 't' 'y' 'e' 's' 'l' 'd' 'w' 'i' 'k']\n",
      "cap-color ['o' 'e' 'n' 'g' 'r' 'w' 'y' 'p' 'u' 'b' 'l' 'k']\n",
      "does-bruise-or-bleed ['f' 't']\n",
      "gill-attachment ['e' nan 'a' 'd' 's' 'x' 'p' 'f']\n",
      "gill-spacing [nan 'c' 'd' 'f']\n",
      "gill-color ['w' 'n' 'p' 'u' 'b' 'g' 'y' 'r' 'e' 'o' 'k' 'f']\n",
      "stem-height [16.95 17.99 17.8  ...  1.23  1.16  0.  ]\n",
      "stem-width [17.09 18.19 17.74 ... 32.59 30.99 30.51]\n",
      "stem-surface ['y' nan 's' 'k' 'i' 'h' 't' 'g' 'f']\n",
      "stem-color ['w' 'y' 'n' 'u' 'b' 'l' 'r' 'p' 'e' 'k' 'g' 'o' 'f']\n",
      "has-ring ['t' 'f']\n",
      "ring-type ['g' 'p' 'e' 'l' 'f' 'm' nan 'r' 'z']\n",
      "habitat ['d' 'm' 'g' 'h' 'l' 'p' 'w' 'u']\n",
      "season ['w' 'u' 'a' 's']\n"
     ]
    }
   ],
   "source": [
    "for col in df1.columns:\n",
    "    print(col, df1[col].unique())"
   ]
  },
  {
   "cell_type": "markdown",
   "id": "5463dd19",
   "metadata": {},
   "source": [
    "# The target classes breakdown:"
   ]
  },
  {
   "cell_type": "code",
   "execution_count": 10,
   "id": "2029982f",
   "metadata": {},
   "outputs": [
    {
     "data": {
      "text/plain": [
       "<AxesSubplot:>"
      ]
     },
     "execution_count": 10,
     "metadata": {},
     "output_type": "execute_result"
    },
    {
     "data": {
      "image/png": "[encoded data removed]",
      "text/plain": [
       "<Figure size 432x288 with 1 Axes>"
      ]
     },
     "metadata": {
      "needs_background": "light"
     },
     "output_type": "display_data"
    }
   ],
   "source": [
    "target_pcts = df1['class'].value_counts(normalize=True)\n",
    "target_pcts.plot(kind='bar')"
   ]
  },
  {
   "cell_type": "markdown",
   "id": "3d0f2bf9",
   "metadata": {},
   "source": [
    "# Visualization of original categorical features:"
   ]
  },
  {
   "cell_type": "code",
   "execution_count": 23,
   "id": "9685350d",
   "metadata": {},
   "outputs": [
    {
     "name": "stdout",
     "output_type": "stream",
     "text": [
      "x is the convex shape cap of a mushrroom\n"
     ]
    },
    {
     "data": {
      "image/png": "[encoded data removed]",
      "text/plain": [
       "<Figure size 432x288 with 1 Axes>"
      ]
     },
     "metadata": {
      "needs_background": "light"
     },
     "output_type": "display_data"
    }
   ],
   "source": [
    "sns.countplot(data=df1, x='cap-shape', hue='class', palette='rocket').set(title='Count of Poisionous v. Edible \\'Shrooms by Cap Shape')\n",
    "\n",
    "print(\"x is the convex shape cap of a mushrroom\")"
   ]
  },
  {
   "cell_type": "code",
   "execution_count": 25,
   "id": "86dcd25d",
   "metadata": {},
   "outputs": [
    {
     "data": {
      "text/plain": [
       "[Text(0.5, 1.0, \"Count of Poisionous v. Edible 'Shrooms by Cap Color\")]"
      ]
     },
     "execution_count": 25,
     "metadata": {},
     "output_type": "execute_result"
    },
    {
     "data": {
      "image/png": "[encoded data removed]",
      "text/plain": [
       "<Figure size 432x288 with 1 Axes>"
      ]
     },
     "metadata": {
      "needs_background": "light"
     },
     "output_type": "display_data"
    }
   ],
   "source": [
    "sns.countplot(data=df1, x='cap-color', hue='class', palette='rocket').set(title='Count of Poisionous v. Edible \\'Shrooms by Cap Color')"
   ]
  },
  {
   "cell_type": "code",
   "execution_count": 89,
   "id": "b9c3310c",
   "metadata": {},
   "outputs": [
    {
     "data": {
      "text/plain": [
       "[Text(0.5, 1.0, \"Count of Poisionous v. Edible 'Shrooms by Gill Color\")]"
      ]
     },
     "execution_count": 89,
     "metadata": {},
     "output_type": "execute_result"
    },
    {
     "data": {
      "image/png": "[encoded data removed]",
      "text/plain": [
       "<Figure size 432x288 with 1 Axes>"
      ]
     },
     "metadata": {
      "needs_background": "light"
     },
     "output_type": "display_data"
    }
   ],
   "source": [
    "sns.countplot(data=df1, x='gill-color', hue='class', palette='viridis').set(title='Count of Poisionous v. Edible \\'Shrooms by Gill Color')"
   ]
  },
  {
   "cell_type": "code",
   "execution_count": 38,
   "id": "1dcdfe7c",
   "metadata": {},
   "outputs": [],
   "source": [
    "#df2 = df1.copy(deep = True)"
   ]
  },
  {
   "cell_type": "code",
   "execution_count": 39,
   "id": "1e7d323d",
   "metadata": {},
   "outputs": [],
   "source": [
    "#df2.head()"
   ]
  },
  {
   "cell_type": "code",
   "execution_count": null,
   "id": "1a8bdbb8",
   "metadata": {},
   "outputs": [],
   "source": [
    "# feature engineered the class feature into binary numbers\n",
    "df1['class'].replace({'p':1, 'e':0}, inplace=True)\n",
    "df1['class'].value_counts()"
   ]
  },
  {
   "cell_type": "markdown",
   "id": "3bb94a36",
   "metadata": {},
   "source": [
    "n indicates color 'Brown' and  is the most common color in both posisonous and edible mushrooms"
   ]
  },
  {
   "cell_type": "markdown",
   "id": "1cc884bd",
   "metadata": {},
   "source": [
    "# Modeling Pre-Processing:"
   ]
  },
  {
   "cell_type": "code",
   "execution_count": 40,
   "id": "347dccf8",
   "metadata": {},
   "outputs": [],
   "source": [
    "from sklearn.model_selection import train_test_split\n",
    "#TRAIN_TEST_SPLIT (80/20)\n",
    "\n",
    "#CREATE TRAIN/VALIDATION/TEST SETS\n",
    "\n",
    "#set X and y as datasets\n",
    "\n",
    "X = df1.loc[:,['cap-diameter','stem-height', 'stem-width']]\n",
    "y = df1['class']\n",
    "\n",
    "#Split data into two sections: Train+Val, Testing\n",
    "\n",
    "#results in 20 test, 80 training\n",
    "\n",
    "X, X_test, y, y_test = train_test_split(X, y, test_size=.2, random_state=20)\n",
    "X_train, X_val, y_train, y_val = train_test_split(X, y, test_size=0.25, random_state=40)"
   ]
  },
  {
   "cell_type": "code",
   "execution_count": 92,
   "id": "510010b4",
   "metadata": {},
   "outputs": [],
   "source": [
    "from sklearn import preprocessing\n",
    "from sklearn.linear_model import LogisticRegression\n",
    "from sklearn.neighbors import KNeighborsClassifier\n",
    "from sklearn.tree import DecisionTreeClassifier\n",
    "from sklearn.ensemble import RandomForestClassifier\n",
    "from xgboost import XGBClassifier\n",
    "from sklearn.metrics import precision_score, recall_score, f1_score, accuracy_score, roc_auc_score, fbeta_score\n",
    "from sklearn.metrics import confusion_matrix, roc_curve\n",
    "import sklearn.metrics as metrics"
   ]
  },
  {
   "cell_type": "code",
   "execution_count": 42,
   "id": "98877e55",
   "metadata": {},
   "outputs": [],
   "source": [
    "from sklearn.preprocessing import MinMaxScaler\n",
    "\n",
    "scaler = MinMaxScaler(feature_range = (0,1))\n",
    "\n",
    "scaler.fit(X_train)\n",
    "X_train = scaler.transform(X_train)\n",
    "X_val = scaler.transform(X_val)\n",
    "X_test = scaler.transform(X_test)"
   ]
  },
  {
   "cell_type": "markdown",
   "id": "958ff112",
   "metadata": {},
   "source": [
    "# Modeling"
   ]
  },
  {
   "cell_type": "code",
   "execution_count": 93,
   "id": "fc20a468",
   "metadata": {},
   "outputs": [
    {
     "name": "stdout",
     "output_type": "stream",
     "text": [
      " Logistic Regression train score: 0.5893943942577986\n",
      " Logistic Regression validation metrics: \n",
      " Accuracy: 0.5888 \n",
      " Recall: 0.8070 \n",
      " fbeta_score: 0.6496\n"
     ]
    }
   ],
   "source": [
    "# Logistic Regression\n",
    "\n",
    "lg_model = LogisticRegression(max_iter=200, C=10000)\n",
    "lg_model.fit(X_train, y_train)\n",
    "\n",
    "lg_y_pred_val = lg_model.predict(X_val)\n",
    "print(' Logistic Regression train score:',lg_model.score(X_train, y_train))\n",
    "\n",
    "print(' Logistic Regression validation metrics: \\n Accuracy: %.4f \\n Recall: %.4f \\n fbeta_score: %.4f' %\n",
    "          (metrics.accuracy_score(y_val , lr_y_pred_val),\n",
    "           metrics.recall_score(y_val, lr_y_pred_val),\n",
    "          metrics.fbeta_score(y_val, lr_y_pred_val, beta = 0.7))\n",
    "     )"
   ]
  },
  {
   "cell_type": "code",
   "execution_count": 95,
   "id": "c1e25cb8",
   "metadata": {},
   "outputs": [
    {
     "name": "stdout",
     "output_type": "stream",
     "text": [
      " Knn train score: 0.8567997598318823\n",
      " K Nearest Neighbors validation metrics: \n",
      " Accuracy: 0.7911 \n",
      " Recall: 0.8120 \n",
      " fbeta_score: 0.8101\n"
     ]
    }
   ],
   "source": [
    "# K Nearest Neighbors\n",
    "\n",
    "knn = KNeighborsClassifier(n_neighbors=5)\n",
    "knn.fit(X_train, y_train)\n",
    "print(' Knn train score:',knn.score(X_train, y_train))\n",
    "\n",
    "knn_y_pred_val = knn.predict(X_val)\n",
    "\n",
    "print(' K Nearest Neighbors validation metrics: \\n Accuracy: %.4f \\n Recall: %.4f \\n fbeta_score: %.4f' %\n",
    "          (metrics.accuracy_score(y_val , knn_y_pred_val),\n",
    "           metrics.recall_score(y_val, knn_y_pred_val),\n",
    "          metrics.fbeta_score(y_val, knn_y_pred_val, beta = 0.7))\n",
    "     )"
   ]
  },
  {
   "cell_type": "code",
   "execution_count": 96,
   "id": "08007fa4",
   "metadata": {},
   "outputs": [
    {
     "name": "stdout",
     "output_type": "stream",
     "text": [
      " Decision Tree Classifier train score: 0.8302175158974919\n",
      " Decision Tree Classifier  validation metrics: \n",
      " Accuracy: 0.7541 \n",
      " Recall: 0.7265 \n",
      " fbeta_score: 0.7790\n"
     ]
    }
   ],
   "source": [
    "# Decision Tree Classifier \n",
    "dt_model = DecisionTreeClassifier(random_state = 0, max_depth = 15)\n",
    "dt_model.fit(X_train, y_train)\n",
    "print(' Decision Tree Classifier train score:',dt_model.score(X_train, y_train))\n",
    "\n",
    "dt_y_pred_val = dt_model.predict(X_val)\n",
    "\n",
    "print(' Decision Tree Classifier  validation metrics: \\n Accuracy: %.4f \\n Recall: %.4f \\n fbeta_score: %.4f' %\n",
    "          (metrics.accuracy_score(y_val , dt_y_pred_val),\n",
    "           metrics.recall_score(y_val, dt_y_pred_val),\n",
    "          metrics.fbeta_score(y_val, dt_y_pred_val, beta = 0.7))\n",
    "     )"
   ]
  },
  {
   "cell_type": "code",
   "execution_count": 97,
   "id": "1ddab307",
   "metadata": {},
   "outputs": [
    {
     "name": "stdout",
     "output_type": "stream",
     "text": [
      " Random Forest Classifier train score: 0.9999181245053356\n",
      " Random Forest Classifier  validation metrics: \n",
      " Accuracy: 0.7966 \n",
      " Recall: 0.8134 \n",
      " fbeta_score: 0.8155\n"
     ]
    }
   ],
   "source": [
    "# Random Forest Classifier\n",
    "rf_classifier = RandomForestClassifier(n_estimators = 1000)\n",
    "rf_classifier.fit(X_train, y_train)\n",
    "print(' Random Forest Classifier train score:',rf_classifier.score(X_train, y_train))\n",
    "\n",
    "rf_y_pred_val = rf_classifier.predict(X_val)\n",
    "\n",
    "print(' Random Forest Classifier  validation metrics: \\n Accuracy: %.4f \\n Recall: %.4f \\n fbeta_score: %.4f' %\n",
    "          (metrics.accuracy_score(y_val , rf_y_pred_val),\n",
    "           metrics.recall_score(y_val, rf_y_pred_val),\n",
    "          metrics.fbeta_score(y_val, rf_y_pred_val, beta = 0.7))\n",
    "     )"
   ]
  },
  {
   "cell_type": "code",
   "execution_count": 98,
   "id": "109c5ed0",
   "metadata": {},
   "outputs": [
    {
     "name": "stdout",
     "output_type": "stream",
     "text": [
      " Random Forest Classifier train score: 0.9999181245053356\n",
      " Random Forest Classifier  validation metrics: \n",
      " Accuracy: 0.7263 \n",
      " Recall: 0.7527 \n",
      " fbeta_score: 0.7514\n"
     ]
    }
   ],
   "source": [
    "# XGBoost Classifier\n",
    "\n",
    "xgbc = XGBClassifier(use_label_encoder=False, n_estimators=100,\n",
    "                       max_depth=20,\n",
    "                       objective=\"reg:squarederror\",  \n",
    "                       learning_rate=.1, \n",
    "                       subsample=1,\n",
    "                       min_child_weight=1,\n",
    "                       colsample_bytree=.8)\n",
    "xgbc.fit(X_train, y_train)\n",
    "print(' Random Forest Classifier train score:',xgbc.score(X_train, y_train))\n",
    "\n",
    "xgbc_y_pred_val = xgbc.predict(X_val)\n",
    "\n",
    "print(' Random Forest Classifier  validation metrics: \\n Accuracy: %.4f \\n Recall: %.4f \\n fbeta_score: %.4f' %\n",
    "          (metrics.accuracy_score(y_val , xgbc_y_pred_val),\n",
    "           metrics.recall_score(y_val, xgbc_y_pred_val),\n",
    "          metrics.fbeta_score(y_val, xgbc_y_pred_val, beta = 0.7))\n",
    "     )"
   ]
  },
  {
   "cell_type": "markdown",
   "id": "c4b87b5f",
   "metadata": {},
   "source": [
    "##  Model selection based on the ROC for the 4 existing models:"
   ]
  },
  {
   "cell_type": "code",
   "execution_count": 91,
   "id": "fc0cb882",
   "metadata": {},
   "outputs": [
    {
     "data": {
      "text/plain": [
       "<Figure size 360x360 with 0 Axes>"
      ]
     },
     "metadata": {},
     "output_type": "display_data"
    },
    {
     "data": {
      "image/png": "[encoded data removed]",
      "text/plain": [
       "<Figure size 900x600 with 1 Axes>"
      ]
     },
     "metadata": {
      "needs_background": "light"
     },
     "output_type": "display_data"
    }
   ],
   "source": [
    "# ROC curve for all 4 models\n",
    "\n",
    "plt.figure(figsize=(5, 5))\n",
    "plt.figure(dpi=150)\n",
    "fpr1, tpr1, thresholds1 = roc_curve(y_val, rf_classifier.predict_proba(X_val)[:,1])\n",
    "fpr2, tpr2, thresholds2 = roc_curve(y_val, xgbc.predict_proba(X_val)[:,1])\n",
    "fpr3, tpr3, thresholds3 = roc_curve(y_val, knn.predict_proba(X_val)[:,1])\n",
    "fpr4, tpr4, thresholds4 = roc_curve(y_val, lg_model.predict_proba(X_val)[:,1])\n",
    "fpr5, tpr5, thresholds5 = roc_curve(y_val, dt_model.predict_proba(X_val)[:,1])\n",
    "\n",
    "\n",
    "\n",
    "plt.plot(fpr1, tpr1,lw=2, label=f'rf_classifier (AUC={roc_auc_score(y_val, rf_classifier.predict_proba(X_val)[:,1]):.2f})')\n",
    "plt.plot(fpr2, tpr2,lw=2, label=f'XGB (AUC={roc_auc_score(y_val, xgbc.predict_proba(X_val)[:,1]):.2f})')\n",
    "plt.plot(fpr3, tpr3,lw=2, label=f'knn (AUC={roc_auc_score(y_val, knn.predict_proba(X_val)[:,1]):.2f})')\n",
    "plt.plot(fpr4, tpr4,lw=2, label=f'lg_model (AUC={roc_auc_score(y_val, lg_model.predict_proba(X_val)[:,1]):.2f})')\n",
    "plt.plot(fpr5, tpr5,lw=2, label=f'dt_model (AUC={roc_auc_score(y_val, dt_model.predict_proba(X_val)[:,1]):.2f})')\n",
    "plt.plot([0,1],[0,1],lw=2, c='violet',ls='--', label='Baseline')\n",
    "\n",
    "plt.legend(loc='lower right')\n",
    "plt.xlim([-0.05,1.05])\n",
    "plt.ylim([-0.05,1.05])\n",
    "\n",
    "plt.xlabel('False Positive Rate')\n",
    "plt.ylabel('True Positive Rate')\n",
    "plt.title('ROC Curve for poisonous mushooms')\n",
    "\n",
    "plt.savefig(\"ROC.png\", bbox_inches='tight', dpi=600)"
   ]
  },
  {
   "cell_type": "markdown",
   "id": "e3a2cc2a",
   "metadata": {},
   "source": [
    "Random forest model showing the best results in the above graph. \n",
    "further adding more engineered features and tuning the hyperparameter \n",
    "to get over come the overfitting of the model\n"
   ]
  },
  {
   "cell_type": "markdown",
   "id": "1b015635",
   "metadata": {},
   "source": [
    "# Encoding the Categorical features into numerical values¶"
   ]
  },
  {
   "cell_type": "code",
   "execution_count": 75,
   "id": "0297a6d0",
   "metadata": {},
   "outputs": [
    {
     "data": {
      "text/html": [
       "<div>\n",
       "<style scoped>\n",
       "    .dataframe tbody tr th:only-of-type {\n",
       "        vertical-align: middle;\n",
       "    }\n",
       "\n",
       "    .dataframe tbody tr th {\n",
       "        vertical-align: top;\n",
       "    }\n",
       "\n",
       "    .dataframe thead th {\n",
       "        text-align: right;\n",
       "    }\n",
       "</style>\n",
       "<table border=\"1\" class=\"dataframe\">\n",
       "  <thead>\n",
       "    <tr style=\"text-align: right;\">\n",
       "      <th></th>\n",
       "      <th>class</th>\n",
       "      <th>cap-diameter</th>\n",
       "      <th>cap-shape</th>\n",
       "      <th>cap-surface</th>\n",
       "      <th>cap-color</th>\n",
       "      <th>does-bruise-or-bleed</th>\n",
       "      <th>gill-attachment</th>\n",
       "      <th>gill-spacing</th>\n",
       "      <th>gill-color</th>\n",
       "      <th>stem-height</th>\n",
       "      <th>stem-width</th>\n",
       "      <th>stem-surface</th>\n",
       "      <th>stem-color</th>\n",
       "      <th>has-ring</th>\n",
       "      <th>ring-type</th>\n",
       "      <th>habitat</th>\n",
       "      <th>season</th>\n",
       "    </tr>\n",
       "  </thead>\n",
       "  <tbody>\n",
       "    <tr>\n",
       "      <th>0</th>\n",
       "      <td>1</td>\n",
       "      <td>15.26</td>\n",
       "      <td>x</td>\n",
       "      <td>g</td>\n",
       "      <td>o</td>\n",
       "      <td>f</td>\n",
       "      <td>e</td>\n",
       "      <td>NaN</td>\n",
       "      <td>w</td>\n",
       "      <td>16.95</td>\n",
       "      <td>17.09</td>\n",
       "      <td>y</td>\n",
       "      <td>w</td>\n",
       "      <td>t</td>\n",
       "      <td>g</td>\n",
       "      <td>d</td>\n",
       "      <td>w</td>\n",
       "    </tr>\n",
       "    <tr>\n",
       "      <th>1</th>\n",
       "      <td>1</td>\n",
       "      <td>16.60</td>\n",
       "      <td>x</td>\n",
       "      <td>g</td>\n",
       "      <td>o</td>\n",
       "      <td>f</td>\n",
       "      <td>e</td>\n",
       "      <td>NaN</td>\n",
       "      <td>w</td>\n",
       "      <td>17.99</td>\n",
       "      <td>18.19</td>\n",
       "      <td>y</td>\n",
       "      <td>w</td>\n",
       "      <td>t</td>\n",
       "      <td>g</td>\n",
       "      <td>d</td>\n",
       "      <td>u</td>\n",
       "    </tr>\n",
       "    <tr>\n",
       "      <th>2</th>\n",
       "      <td>1</td>\n",
       "      <td>14.07</td>\n",
       "      <td>x</td>\n",
       "      <td>g</td>\n",
       "      <td>o</td>\n",
       "      <td>f</td>\n",
       "      <td>e</td>\n",
       "      <td>NaN</td>\n",
       "      <td>w</td>\n",
       "      <td>17.80</td>\n",
       "      <td>17.74</td>\n",
       "      <td>y</td>\n",
       "      <td>w</td>\n",
       "      <td>t</td>\n",
       "      <td>g</td>\n",
       "      <td>d</td>\n",
       "      <td>w</td>\n",
       "    </tr>\n",
       "    <tr>\n",
       "      <th>3</th>\n",
       "      <td>1</td>\n",
       "      <td>14.17</td>\n",
       "      <td>f</td>\n",
       "      <td>h</td>\n",
       "      <td>e</td>\n",
       "      <td>f</td>\n",
       "      <td>e</td>\n",
       "      <td>NaN</td>\n",
       "      <td>w</td>\n",
       "      <td>15.77</td>\n",
       "      <td>15.98</td>\n",
       "      <td>y</td>\n",
       "      <td>w</td>\n",
       "      <td>t</td>\n",
       "      <td>p</td>\n",
       "      <td>d</td>\n",
       "      <td>w</td>\n",
       "    </tr>\n",
       "    <tr>\n",
       "      <th>4</th>\n",
       "      <td>1</td>\n",
       "      <td>14.64</td>\n",
       "      <td>x</td>\n",
       "      <td>h</td>\n",
       "      <td>o</td>\n",
       "      <td>f</td>\n",
       "      <td>e</td>\n",
       "      <td>NaN</td>\n",
       "      <td>w</td>\n",
       "      <td>16.53</td>\n",
       "      <td>17.20</td>\n",
       "      <td>y</td>\n",
       "      <td>w</td>\n",
       "      <td>t</td>\n",
       "      <td>p</td>\n",
       "      <td>d</td>\n",
       "      <td>w</td>\n",
       "    </tr>\n",
       "  </tbody>\n",
       "</table>\n",
       "</div>"
      ],
      "text/plain": [
       "   class  cap-diameter cap-shape cap-surface cap-color does-bruise-or-bleed  \\\n",
       "0      1         15.26         x           g         o                    f   \n",
       "1      1         16.60         x           g         o                    f   \n",
       "2      1         14.07         x           g         o                    f   \n",
       "3      1         14.17         f           h         e                    f   \n",
       "4      1         14.64         x           h         o                    f   \n",
       "\n",
       "  gill-attachment gill-spacing gill-color  stem-height  stem-width  \\\n",
       "0               e          NaN          w        16.95       17.09   \n",
       "1               e          NaN          w        17.99       18.19   \n",
       "2               e          NaN          w        17.80       17.74   \n",
       "3               e          NaN          w        15.77       15.98   \n",
       "4               e          NaN          w        16.53       17.20   \n",
       "\n",
       "  stem-surface stem-color has-ring ring-type habitat season  \n",
       "0            y          w        t         g       d      w  \n",
       "1            y          w        t         g       d      u  \n",
       "2            y          w        t         g       d      w  \n",
       "3            y          w        t         p       d      w  \n",
       "4            y          w        t         p       d      w  "
      ]
     },
     "execution_count": 75,
     "metadata": {},
     "output_type": "execute_result"
    }
   ],
   "source": [
    "df1.head()"
   ]
  },
  {
   "cell_type": "code",
   "execution_count": 79,
   "id": "b294d19d",
   "metadata": {},
   "outputs": [],
   "source": [
    "num_data = df1.loc[:,['cap-diameter','stem-height', 'stem-width']]\n",
    "#num_data.head()"
   ]
  },
  {
   "cell_type": "code",
   "execution_count": 80,
   "id": "d4aef561",
   "metadata": {},
   "outputs": [],
   "source": [
    "cat_data = df1.drop(columns=['cap-diameter','stem-height', 'stem-width'])\n",
    "#cat_data.head()"
   ]
  },
  {
   "cell_type": "code",
   "execution_count": 83,
   "id": "e88b5774",
   "metadata": {},
   "outputs": [
    {
     "data": {
      "text/html": [
       "<div>\n",
       "<style scoped>\n",
       "    .dataframe tbody tr th:only-of-type {\n",
       "        vertical-align: middle;\n",
       "    }\n",
       "\n",
       "    .dataframe tbody tr th {\n",
       "        vertical-align: top;\n",
       "    }\n",
       "\n",
       "    .dataframe thead th {\n",
       "        text-align: right;\n",
       "    }\n",
       "</style>\n",
       "<table border=\"1\" class=\"dataframe\">\n",
       "  <thead>\n",
       "    <tr style=\"text-align: right;\">\n",
       "      <th></th>\n",
       "      <th>class</th>\n",
       "      <th>cap-shape</th>\n",
       "      <th>cap-surface</th>\n",
       "      <th>cap-color</th>\n",
       "      <th>does-bruise-or-bleed</th>\n",
       "      <th>gill-attachment</th>\n",
       "      <th>gill-spacing</th>\n",
       "      <th>gill-color</th>\n",
       "      <th>stem-surface</th>\n",
       "      <th>stem-color</th>\n",
       "      <th>has-ring</th>\n",
       "      <th>ring-type</th>\n",
       "      <th>habitat</th>\n",
       "      <th>season</th>\n",
       "    </tr>\n",
       "  </thead>\n",
       "  <tbody>\n",
       "    <tr>\n",
       "      <th>0</th>\n",
       "      <td>1</td>\n",
       "      <td>6</td>\n",
       "      <td>2</td>\n",
       "      <td>6</td>\n",
       "      <td>0</td>\n",
       "      <td>2</td>\n",
       "      <td>3</td>\n",
       "      <td>10</td>\n",
       "      <td>7</td>\n",
       "      <td>11</td>\n",
       "      <td>1</td>\n",
       "      <td>2</td>\n",
       "      <td>0</td>\n",
       "      <td>3</td>\n",
       "    </tr>\n",
       "    <tr>\n",
       "      <th>1</th>\n",
       "      <td>1</td>\n",
       "      <td>6</td>\n",
       "      <td>2</td>\n",
       "      <td>6</td>\n",
       "      <td>0</td>\n",
       "      <td>2</td>\n",
       "      <td>3</td>\n",
       "      <td>10</td>\n",
       "      <td>7</td>\n",
       "      <td>11</td>\n",
       "      <td>1</td>\n",
       "      <td>2</td>\n",
       "      <td>0</td>\n",
       "      <td>2</td>\n",
       "    </tr>\n",
       "    <tr>\n",
       "      <th>2</th>\n",
       "      <td>1</td>\n",
       "      <td>6</td>\n",
       "      <td>2</td>\n",
       "      <td>6</td>\n",
       "      <td>0</td>\n",
       "      <td>2</td>\n",
       "      <td>3</td>\n",
       "      <td>10</td>\n",
       "      <td>7</td>\n",
       "      <td>11</td>\n",
       "      <td>1</td>\n",
       "      <td>2</td>\n",
       "      <td>0</td>\n",
       "      <td>3</td>\n",
       "    </tr>\n",
       "    <tr>\n",
       "      <th>3</th>\n",
       "      <td>1</td>\n",
       "      <td>2</td>\n",
       "      <td>3</td>\n",
       "      <td>1</td>\n",
       "      <td>0</td>\n",
       "      <td>2</td>\n",
       "      <td>3</td>\n",
       "      <td>10</td>\n",
       "      <td>7</td>\n",
       "      <td>11</td>\n",
       "      <td>1</td>\n",
       "      <td>5</td>\n",
       "      <td>0</td>\n",
       "      <td>3</td>\n",
       "    </tr>\n",
       "    <tr>\n",
       "      <th>4</th>\n",
       "      <td>1</td>\n",
       "      <td>6</td>\n",
       "      <td>3</td>\n",
       "      <td>6</td>\n",
       "      <td>0</td>\n",
       "      <td>2</td>\n",
       "      <td>3</td>\n",
       "      <td>10</td>\n",
       "      <td>7</td>\n",
       "      <td>11</td>\n",
       "      <td>1</td>\n",
       "      <td>5</td>\n",
       "      <td>0</td>\n",
       "      <td>3</td>\n",
       "    </tr>\n",
       "  </tbody>\n",
       "</table>\n",
       "</div>"
      ],
      "text/plain": [
       "   class  cap-shape  cap-surface  cap-color  does-bruise-or-bleed  \\\n",
       "0      1          6            2          6                     0   \n",
       "1      1          6            2          6                     0   \n",
       "2      1          6            2          6                     0   \n",
       "3      1          2            3          1                     0   \n",
       "4      1          6            3          6                     0   \n",
       "\n",
       "   gill-attachment  gill-spacing  gill-color  stem-surface  stem-color  \\\n",
       "0                2             3          10             7          11   \n",
       "1                2             3          10             7          11   \n",
       "2                2             3          10             7          11   \n",
       "3                2             3          10             7          11   \n",
       "4                2             3          10             7          11   \n",
       "\n",
       "   has-ring  ring-type  habitat  season  \n",
       "0         1          2        0       3  \n",
       "1         1          2        0       2  \n",
       "2         1          2        0       3  \n",
       "3         1          5        0       3  \n",
       "4         1          5        0       3  "
      ]
     },
     "execution_count": 83,
     "metadata": {},
     "output_type": "execute_result"
    }
   ],
   "source": [
    "labelencoder=LabelEncoder()\n",
    "for col in cat_data.columns:\n",
    "    cat_data[col] = labelencoder.fit_transform(cat_data[col])\n",
    "cat_data.head()"
   ]
  },
  {
   "cell_type": "code",
   "execution_count": 84,
   "id": "f1dd37a3",
   "metadata": {},
   "outputs": [
    {
     "data": {
      "text/html": [
       "<div>\n",
       "<style scoped>\n",
       "    .dataframe tbody tr th:only-of-type {\n",
       "        vertical-align: middle;\n",
       "    }\n",
       "\n",
       "    .dataframe tbody tr th {\n",
       "        vertical-align: top;\n",
       "    }\n",
       "\n",
       "    .dataframe thead th {\n",
       "        text-align: right;\n",
       "    }\n",
       "</style>\n",
       "<table border=\"1\" class=\"dataframe\">\n",
       "  <thead>\n",
       "    <tr style=\"text-align: right;\">\n",
       "      <th></th>\n",
       "      <th>cap-diameter</th>\n",
       "      <th>stem-height</th>\n",
       "      <th>stem-width</th>\n",
       "      <th>class</th>\n",
       "      <th>cap-shape</th>\n",
       "      <th>cap-surface</th>\n",
       "      <th>cap-color</th>\n",
       "      <th>does-bruise-or-bleed</th>\n",
       "      <th>gill-attachment</th>\n",
       "      <th>gill-spacing</th>\n",
       "      <th>gill-color</th>\n",
       "      <th>stem-surface</th>\n",
       "      <th>stem-color</th>\n",
       "      <th>has-ring</th>\n",
       "      <th>ring-type</th>\n",
       "      <th>habitat</th>\n",
       "      <th>season</th>\n",
       "    </tr>\n",
       "  </thead>\n",
       "  <tbody>\n",
       "    <tr>\n",
       "      <th>0</th>\n",
       "      <td>15.26</td>\n",
       "      <td>16.95</td>\n",
       "      <td>17.09</td>\n",
       "      <td>1</td>\n",
       "      <td>6</td>\n",
       "      <td>2</td>\n",
       "      <td>6</td>\n",
       "      <td>0</td>\n",
       "      <td>2</td>\n",
       "      <td>3</td>\n",
       "      <td>10</td>\n",
       "      <td>7</td>\n",
       "      <td>11</td>\n",
       "      <td>1</td>\n",
       "      <td>2</td>\n",
       "      <td>0</td>\n",
       "      <td>3</td>\n",
       "    </tr>\n",
       "    <tr>\n",
       "      <th>1</th>\n",
       "      <td>16.60</td>\n",
       "      <td>17.99</td>\n",
       "      <td>18.19</td>\n",
       "      <td>1</td>\n",
       "      <td>6</td>\n",
       "      <td>2</td>\n",
       "      <td>6</td>\n",
       "      <td>0</td>\n",
       "      <td>2</td>\n",
       "      <td>3</td>\n",
       "      <td>10</td>\n",
       "      <td>7</td>\n",
       "      <td>11</td>\n",
       "      <td>1</td>\n",
       "      <td>2</td>\n",
       "      <td>0</td>\n",
       "      <td>2</td>\n",
       "    </tr>\n",
       "    <tr>\n",
       "      <th>2</th>\n",
       "      <td>14.07</td>\n",
       "      <td>17.80</td>\n",
       "      <td>17.74</td>\n",
       "      <td>1</td>\n",
       "      <td>6</td>\n",
       "      <td>2</td>\n",
       "      <td>6</td>\n",
       "      <td>0</td>\n",
       "      <td>2</td>\n",
       "      <td>3</td>\n",
       "      <td>10</td>\n",
       "      <td>7</td>\n",
       "      <td>11</td>\n",
       "      <td>1</td>\n",
       "      <td>2</td>\n",
       "      <td>0</td>\n",
       "      <td>3</td>\n",
       "    </tr>\n",
       "    <tr>\n",
       "      <th>3</th>\n",
       "      <td>14.17</td>\n",
       "      <td>15.77</td>\n",
       "      <td>15.98</td>\n",
       "      <td>1</td>\n",
       "      <td>2</td>\n",
       "      <td>3</td>\n",
       "      <td>1</td>\n",
       "      <td>0</td>\n",
       "      <td>2</td>\n",
       "      <td>3</td>\n",
       "      <td>10</td>\n",
       "      <td>7</td>\n",
       "      <td>11</td>\n",
       "      <td>1</td>\n",
       "      <td>5</td>\n",
       "      <td>0</td>\n",
       "      <td>3</td>\n",
       "    </tr>\n",
       "    <tr>\n",
       "      <th>4</th>\n",
       "      <td>14.64</td>\n",
       "      <td>16.53</td>\n",
       "      <td>17.20</td>\n",
       "      <td>1</td>\n",
       "      <td>6</td>\n",
       "      <td>3</td>\n",
       "      <td>6</td>\n",
       "      <td>0</td>\n",
       "      <td>2</td>\n",
       "      <td>3</td>\n",
       "      <td>10</td>\n",
       "      <td>7</td>\n",
       "      <td>11</td>\n",
       "      <td>1</td>\n",
       "      <td>5</td>\n",
       "      <td>0</td>\n",
       "      <td>3</td>\n",
       "    </tr>\n",
       "  </tbody>\n",
       "</table>\n",
       "</div>"
      ],
      "text/plain": [
       "   cap-diameter  stem-height  stem-width  class  cap-shape  cap-surface  \\\n",
       "0         15.26        16.95       17.09      1          6            2   \n",
       "1         16.60        17.99       18.19      1          6            2   \n",
       "2         14.07        17.80       17.74      1          6            2   \n",
       "3         14.17        15.77       15.98      1          2            3   \n",
       "4         14.64        16.53       17.20      1          6            3   \n",
       "\n",
       "   cap-color  does-bruise-or-bleed  gill-attachment  gill-spacing  gill-color  \\\n",
       "0          6                     0                2             3          10   \n",
       "1          6                     0                2             3          10   \n",
       "2          6                     0                2             3          10   \n",
       "3          1                     0                2             3          10   \n",
       "4          6                     0                2             3          10   \n",
       "\n",
       "   stem-surface  stem-color  has-ring  ring-type  habitat  season  \n",
       "0             7          11         1          2        0       3  \n",
       "1             7          11         1          2        0       2  \n",
       "2             7          11         1          2        0       3  \n",
       "3             7          11         1          5        0       3  \n",
       "4             7          11         1          5        0       3  "
      ]
     },
     "execution_count": 84,
     "metadata": {},
     "output_type": "execute_result"
    }
   ],
   "source": [
    "# concatenating along columns\n",
    "new_df = pd.concat([num_data, cat_data], axis=1)\n",
    "new_df.head()"
   ]
  },
  {
   "cell_type": "code",
   "execution_count": 85,
   "id": "58b5b718",
   "metadata": {},
   "outputs": [],
   "source": [
    "new_df.to_csv('new_data1.csv')"
   ]
  },
  {
   "cell_type": "code",
   "execution_count": null,
   "id": "f9accd46",
   "metadata": {},
   "outputs": [],
   "source": []
  },
  {
   "cell_type": "code",
   "execution_count": null,
   "id": "058384d6",
   "metadata": {},
   "outputs": [],
   "source": [
    "# Plotting the calculated feature importances by RF model\n",
    "\n",
    "importance_df = pd.DataFrame(data=zip(X_train.columns, rf_classifier.feature_importances_))\n",
    "importance_df.sort_values(by=[1], inplace=True)\n",
    "plt.figure(figsize=(5, 12))\n",
    "plt.barh(importance_df[0], importance_df[1])"
   ]
  }
 ],
 "metadata": {
  "kernelspec": {
   "display_name": "Python [conda env:metis] *",
   "language": "python",
   "name": "conda-env-metis-py"
  },
  "language_info": {
   "codemirror_mode": {
    "name": "ipython",
    "version": 3
   },
   "file_extension": ".py",
   "mimetype": "text/x-python",
   "name": "python",
   "nbconvert_exporter": "python",
   "pygments_lexer": "ipython3",
   "version": "3.9.9"
  }
 },
 "nbformat": 4,
 "nbformat_minor": 5
}
